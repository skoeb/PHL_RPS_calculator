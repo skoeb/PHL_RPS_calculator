{
 "cells": [
  {
   "cell_type": "markdown",
   "metadata": {},
   "source": [
    "## Please click 'Cell > Run All' to initalize app!"
   ]
  },
  {
   "cell_type": "code",
   "execution_count": 1,
   "metadata": {},
   "outputs": [
    {
     "data": {
      "text/html": [
       "<style>.container { width:85% !important; }</style>"
      ],
      "text/plain": [
       "<IPython.core.display.HTML object>"
      ]
     },
     "metadata": {},
     "output_type": "display_data"
    },
    {
     "data": {
      "text/html": [
       "<style>.output_wrapper, .output {height:auto !important; max-height:5000px;}.output_scroll {box-shadow:none !important; webkit-box-shadow:none !important;}</style>"
      ],
      "text/plain": [
       "<IPython.core.display.HTML object>"
      ]
     },
     "metadata": {},
     "output_type": "display_data"
    },
    {
     "data": {
      "application/vnd.jupyter.widget-view+json": {
       "model_id": "bbfa9661877941308665a6d3195a0db9",
       "version_major": 2,
       "version_minor": 0
      },
      "text/plain": [
       "VBox(children=(Text(value='100000', description='2018 Demand (MWh):', layout=Layout(width='700px'), style=Desc…"
      ]
     },
     "metadata": {},
     "output_type": "display_data"
    },
    {
     "data": {
      "application/vnd.jupyter.widget-view+json": {
       "model_id": "c6447b206bc7495798be1bc79ffaf117",
       "version_major": 2,
       "version_minor": 0
      },
      "text/plain": [
       "Output()"
      ]
     },
     "metadata": {},
     "output_type": "display_data"
    }
   ],
   "source": [
    "import calculator"
   ]
  },
  {
   "cell_type": "markdown",
   "metadata": {},
   "source": [
    "## Documentation\n",
    "* __Demand__ is entered in MWh\n",
    "* __Existing Eligible RE Generation__ is generation from __[approved RE Plants](https://www.doe.gov.ph/sites/default/files/pdf/announcements/2018-eligible-re-facilities-updated-11062018.pdf)__ (those built since 2008) and the utility's Feed-in-Tariff alotment _(check with Marlon?)_. RECs begin banking in 2018 and 2019, even though there are no retirement requirements, giving most utilities two years of a high level of banking. \n",
    "* __Annual Demand Growth Rate__ default is 4.5%\n",
    "* __Line Losses__ default is 18%. (Note: the RPS sets requirements based on a percentage of demand, but RECs are credited based on Generation, relevant due to high line-losses)\n",
    "* __Annual RPS Increment 2020-2023__ current policy is 1% 2020-2030. DOE has reserved right to adjust incremental percentage.\n",
    "* __Annual RPS Increment 2023-__ allow user to model different policy regimes. Policy changes could be resultant of the 2022 presidential election, or other external reasons. \n",
    "* __End Year__ default value is 2030, which is the current policy end-year, allows user to change policy scenario. "
   ]
  },
  {
   "cell_type": "markdown",
   "metadata": {},
   "source": [
    "## Feature Wish List\n",
    "* Print out year when new renewables will be required (based on REC balance being depleated)\n",
    "* Translate REC Requirements into capacity figures (i.e. 100 RECs will be required in 2025, which is equivelant to Y MW of 8-hour RE capacity, or Z MW of 24-hour RE capacity). \n",
    "* Display table with exact annual REC requirements and REC balance\n",
    "* Other visualizations? Maps?\n"
   ]
  },
  {
   "cell_type": "markdown",
   "metadata": {},
   "source": [
    "## Todo\n",
    "\n",
    "#### Backend\n",
    "* Implement Wishlist Features\n",
    "* Potentially use Plotlly instead of Matplotlib? \n",
    "* Allow calculations based on new RE builds (i.e. 100 MW solar field is built in 2022, adds to REC balance there on out)\n",
    "\n",
    "#### Frontend\n",
    "* Build widgets for wishlist features\n",
    "* Prettyprint dataframe with annual data?\n",
    "\n",
    "#### Hosting\n",
    "* Build Dashboard (using Dash?)\n",
    "* Host on PythonAnywhere / Heroku / AWS\n",
    "* Embed iFrame on CEIA squarespace site\n"
   ]
  }
 ],
 "metadata": {
  "kernelspec": {
   "display_name": "Python 3",
   "language": "python",
   "name": "python3"
  },
  "language_info": {
   "codemirror_mode": {
    "name": "ipython",
    "version": 3
   },
   "file_extension": ".py",
   "mimetype": "text/x-python",
   "name": "python",
   "nbconvert_exporter": "python",
   "pygments_lexer": "ipython3",
   "version": "3.6.8"
  }
 },
 "nbformat": 4,
 "nbformat_minor": 2
}
